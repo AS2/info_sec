{
 "cells": [
  {
   "cell_type": "markdown",
   "metadata": {},
   "source": [
    "# Взлом шифра Виженера\n",
    "\n",
    "Основная идея шифра Вижнера - выбор слова определенной длины, повторение его до тех пор, пока он не станет размером с новый текст, образуя ключ. Затем каждую букву исходного текста сдвигают на номер соответствующей буквы ключа в алфавите. "
   ]
  },
  {
   "cell_type": "markdown",
   "metadata": {},
   "source": [
    "Исходный текст написан на русском языке. Не сложно предположить, что алфавит для шифра Вижнера - русский."
   ]
  },
  {
   "cell_type": "markdown",
   "metadata": {},
   "source": [
    "Рассмотрим частотный анализ русских символов в осмысленном тексте."
   ]
  },
  {
   "cell_type": "code",
   "execution_count": 17,
   "metadata": {},
   "outputs": [
    {
     "name": "stdout",
     "output_type": "stream",
     "text": [
      "./data/ref_texts/war_and_peace.ru.txt, content: Лев Николаевич Толстой\n",
      "Война и мир. Книга 1\n",
      "\n",
      "Война и мир – 1\n",
      "\n",
      "Аннотация \n",
      "\n",
      "Роман Льва Толстого «Война\n",
      "['А', 'Б', 'В', 'Г', 'Д', 'Е', 'Ё', 'Ж', 'З', 'И', 'Й', 'К', 'Л', 'М', 'Н', 'О', 'П', 'Р', 'С', 'Т', 'У', 'Ф', 'Х', 'Ц', 'Ч', 'Ш', 'Щ', 'Ъ', 'Ы', 'Ь', 'Э', 'Ю', 'Я']\n"
     ]
    }
   ],
   "source": [
    "import string      # definitions of ascii printable chars\n",
    "from collections import defaultdict     # fast counting\n",
    "import typing as tp\n",
    "\n",
    "def generate_frequencies(text: str) -> tp.Dict:\n",
    "    d = defaultdict(int)    # define dictionary for counting frequencies\n",
    "\n",
    "    for ch in text:       # loop over each character \n",
    "        if (ch >= 'а' and ch <= 'я'):\n",
    "            d[chr(ord(ch) - 32)] += 1    #   if so, add 1 to that characters frequency counter\n",
    "        elif (ch >= 'А' and ch <= 'Я'):\n",
    "            d[ch] += 1\n",
    "    return d\n",
    "\n",
    "ref_files = [\n",
    "    \"./data/ref_texts/war_and_peace.ru.txt\",\n",
    "    #\"./data/addition/war_and_peace.txt\"\n",
    "]\n",
    "\n",
    "total_txt = \"\"\n",
    "for path in ref_files:\n",
    "    file = open(path, \"r\", encoding=\"utf-8\")\n",
    "    data = file.read()\n",
    "    print(f\"{path}, content: {data[0:100]}\")\n",
    "    total_txt += data\n",
    "    file.close()\n",
    "    \n",
    "tmp_d = generate_frequencies(total_txt)\n",
    "alphabet = list(tmp_d.keys())\n",
    "alphabet.sort()\n",
    "alphabet.insert(6, 'Ё')\n",
    "print(alphabet)"
   ]
  },
  {
   "cell_type": "code",
   "execution_count": 18,
   "metadata": {},
   "outputs": [
    {
     "name": "stdout",
     "output_type": "stream",
     "text": [
      "dict_keys(['Л', 'Е', 'В', 'Н', 'И', 'К', 'О', 'А', 'Ч', 'Т', 'С', 'Й', 'М', 'Р', 'Г', 'Ц', 'Я', 'Ь', 'Ж', 'З', 'Д', 'У', 'Ы', 'П', 'Ю', 'Х', 'Б', 'Э', 'Щ', 'Ш', 'Ф', 'Ъ', 'Ё']) 33\n",
      "dict_keys(['О', 'А', 'Е', 'И', 'Н', 'Т', 'С', 'Л', 'В', 'Р', 'К', 'Д', 'М', 'У', 'П', 'Я', 'Г', 'Ь', 'Ы', 'Б', 'З', 'Ч', 'Й', 'Ж', 'Ш', 'Х', 'Ю', 'Ц', 'Э', 'Щ', 'Ф', 'Ъ', 'Ё']) 33\n"
     ]
    }
   ],
   "source": [
    "tmp_d.update({'Ё':tmp_d['Ъ'] / 2})\n",
    "print(tmp_d.keys(), len(tmp_d.keys()))     # print all frequencies\n",
    "\n",
    "letters_possibilities = {k: v for k, v in sorted(tmp_d.items(), key=lambda item: item[1], reverse=True)}\n",
    "print(letters_possibilities.keys(), len(letters_possibilities.keys()))"
   ]
  },
  {
   "cell_type": "code",
   "execution_count": 19,
   "metadata": {},
   "outputs": [
    {
     "data": {
      "image/png": "[encoded data removed]",
      "text/plain": [
       "<Figure size 640x480 with 1 Axes>"
      ]
     },
     "metadata": {},
     "output_type": "display_data"
    }
   ],
   "source": [
    "import numpy as np\n",
    "import matplotlib.pyplot as plt\n",
    "\n",
    "def plot_hist(dct, title):\n",
    "    pos = np.arange(len(dct.keys()))\n",
    "    width = 1.0     # gives histogram aspect to the bar diagram\n",
    "\n",
    "    ax = plt.axes()\n",
    "    ax.set_xticks(pos + (width / 2))\n",
    "    ax.set_xticklabels(dct.keys())\n",
    "\n",
    "    plt.bar(dct.keys(), dct.values(), width, color='g')\n",
    "    plt.title(title)\n",
    "    plt.show()\n",
    "    return\n",
    "\n",
    "plot_hist(letters_possibilities, \"True hist\")\n"
   ]
  },
  {
   "cell_type": "markdown",
   "metadata": {},
   "source": [
    "### Определение длины ключа\n",
    "\n",
    "Будем брать буквы на определенных отступах и смотреть на гистограммы распределений. Если гистограммы будут схожи, но только со сдвигом, то значит, что эти буквы получены одинаковым сдвигом. Это может означать или длину ключа, или совпадение сиволов на двух разных позициях кодового слова. Данную гистограмма с разными сдвигами должна наблюдаться и при последующих наборов символов: если бы исходный текст был закодирован к примеру словом САПСАН, то можно предположить, что длина кода 3, а не 6, поскольку гистограмма была бы схожа с тем, что сверху. Без проверок всех последующих символов, нельзя было бы заметить несостыковку распределение каждого 3ьего символа с тем, что приведено выше."
   ]
  },
  {
   "cell_type": "code",
   "execution_count": 20,
   "metadata": {},
   "outputs": [
    {
     "name": "stdout",
     "output_type": "stream",
     "text": [
      "20000 Г ЕРТЫ Х ЖКГЙЬРВТ, ГЕФ ВЭДМВПЧПЁШДШЪ ПФАУУАИ ДЬЬУШЧЮПЩЙ Ь ЯВПУБЯЕ, К УНЭЮАЦЩП, ТШЩЦМУЗ-ЭР НОЦ Ш ЯЕУФЁЭР НВ ЮЬЖК АНЮТК УААФЦЁ, ИБ-АЖ-ЦУ! НШФФ, ХШЪЯ, ТЬЁЪГМБ ЯЪУЦПБ АВШСЙВЮУЩ, ТЫРФАЁЕЛ ХЖ ЯЬЧК ЧППМ, ГВЬ\n"
     ]
    }
   ],
   "source": [
    "text_path = \"./data/2024_11_08_17_45_19_Сачук_Александр_task.txt\"\n",
    "data = \"\"\n",
    "with open(text_path, \"rt\", encoding=\"utf-8\") as tf:\n",
    "    data = tf.read()\n",
    "    \n",
    "print(len(data), data[0:200])"
   ]
  },
  {
   "cell_type": "code",
   "execution_count": 21,
   "metadata": {},
   "outputs": [],
   "source": [
    "def remain_symbs(source_text : str) -> str:\n",
    "    res = \"\".join([symb for symb in source_text if (symb >= 'А' and symb <= 'Я') or symb == 'Ё'])\n",
    "    return res\n",
    "\n",
    "def count_ci(source_text : str, is_need_to_drop_non_symbs: bool, key_len: int):\n",
    "    text = source_text\n",
    "    if is_need_to_drop_non_symbs:\n",
    "        text = remain_symbs(text)\n",
    "\n",
    "    # init dicts of frequencies for every shift\n",
    "    keys = [chr(ch) for ch in range(ord('А'), ord('Я') + 1)]\n",
    "    keys.insert(6, 'Ё')\n",
    "    #print(keys)\n",
    "    dict_letters = {key: 0 for key in keys}\n",
    "        \n",
    "    # count frequencies on every shift\n",
    "    total_cnt = 0\n",
    "    for i, ch in enumerate(text):\n",
    "        if ((ch >= 'А' and ch <= 'Я') or ch == 'Ё') and i % key_len == 0:   \n",
    "            dict_letters[ch] += 1\n",
    "            total_cnt += 1\n",
    "    \n",
    "    # plot every freq hist\n",
    "    ci = 0\n",
    "    for key in keys:  \n",
    "        ci += dict_letters[key] * (dict_letters[key] - 1) / (total_cnt * (total_cnt - 1))\n",
    "         \n",
    "    return ci"
   ]
  },
  {
   "cell_type": "code",
   "execution_count": 22,
   "metadata": {},
   "outputs": [
    {
     "name": "stdout",
     "output_type": "stream",
     "text": [
      "Best ci is of '80' is d=0.06409914000320494\n"
     ]
    }
   ],
   "source": [
    "max_val, max_i = 0, -1\n",
    "list_ci = []\n",
    "for i in range(1, 100):\n",
    "    val = count_ci(data, True, i)\n",
    "    list_ci.append(val)\n",
    "    if (val > max_val):\n",
    "        max_val = val\n",
    "        max_i = i\n",
    "    #print(f\"ci of '{i}' is d={val}\")\n",
    "    \n",
    "print(f\"Best ci is of '{max_i}' is d={max_val}\")"
   ]
  },
  {
   "cell_type": "code",
   "execution_count": 23,
   "metadata": {},
   "outputs": [
    {
     "data": {
      "image/png": "[encoded data removed]",
      "text/plain": [
       "<Figure size 640x480 with 1 Axes>"
      ]
     },
     "metadata": {},
     "output_type": "display_data"
    }
   ],
   "source": [
    "plt.bar(range(1, len(list_ci) + 1), list_ci)\n",
    "plt.xlabel(\"Key possible len\")\n",
    "plt.ylabel(\"ci\")\n",
    "plt.show()"
   ]
  },
  {
   "cell_type": "markdown",
   "metadata": {},
   "source": [
    "Видны пики значений ci в различных позициях. Будем предполагать, что ключ короткий =), и всего из 16 букв. Приступим к перебору!"
   ]
  },
  {
   "cell_type": "markdown",
   "metadata": {},
   "source": [
    "Загружаем частотный словарь русских слов"
   ]
  },
  {
   "cell_type": "code",
   "execution_count": 24,
   "metadata": {},
   "outputs": [
    {
     "name": "stdout",
     "output_type": "stream",
     "text": [
      "      Lemma    Doc\n",
      "3710      в  37865\n",
      "13824     и  37704\n",
      "22019    на  36748\n",
      "40004     с  35700\n",
      "3683   быть  34184\n",
      "52138\n"
     ]
    }
   ],
   "source": [
    "import pandas as pd\n",
    "\n",
    "df = pd.read_csv(\"./data/freqrnc2011.csv\", delimiter='\\t')\n",
    "df = df[['Lemma', 'Doc']]\n",
    "df = df.sort_values('Doc', ascending=False)\n",
    "print(df.head())\n",
    "sorted_freq_lemmas = df['Lemma'].to_list()\n",
    "sorted_freq_lemmas = [str.upper(lemma) for lemma in sorted_freq_lemmas]\n",
    "#print(sorted_freq_lemmas)\n",
    "print(len(sorted_freq_lemmas))\n"
   ]
  },
  {
   "cell_type": "markdown",
   "metadata": {},
   "source": [
    "Читаем дополнительно разные литературные источники, чтоб добавить разные словообразования. Добавим их в конец всего нашего словаря, поскольку эти словообразования явно маловерятнее своих базовых форм, но и вероятность точную ко всему языку без дополнительных исследований оценить точно. Пускай будут в конце "
   ]
  },
  {
   "cell_type": "code",
   "execution_count": 25,
   "metadata": {},
   "outputs": [
    {
     "name": "stdout",
     "output_type": "stream",
     "text": [
      "['УМОЛОТОМ', 'ВРАГАМИ', 'ЗАМШЕВОМ', 'ГРОЗИЛА', 'БЕСЕДЫ', 'ПРИЗВАЛ', 'МРАЧНЫЕ', 'СТРАШНЫМ', 'СБЕЖАЛИ', 'РОДЯТСЯ', 'СКРЫТО', 'УЛЮЛЮ', 'ДЕВ', 'ОТДАДУТ', 'УМИРАЯ', 'РОЗ', 'ПЕРЕБИЛА', 'СПУСКАЛИСЬ', 'ХРИПЕЛА', 'БИЛЕТИКОВ', 'ПОЦЕЛУЙТЕ', 'БЕРЛИНСКОЕ', 'МЕТНУЛАСЬ', 'БЕСПРИЧИННОЕ', 'ДОСЛУШАЛА', 'МОЛЧИТЕ', 'ПОСЫЛАЕТ', 'НЕРАЗРЕЗАННУЮ', 'НЕДОУМЕНИЕМ', 'СУПРУГОМ']\n"
     ]
    }
   ],
   "source": [
    "import string\n",
    "import re\n",
    "\n",
    "def eject_words(text:str) -> tp.List[str]:\n",
    "    words = [str.upper(word.strip(string.punctuation)) for word in text.split()]\n",
    "    new_list = []\n",
    "    for i in range(len(words)):\n",
    "        word = re.sub(r'[^а-яА-ЯёЁ]', '', words[i])\n",
    "        if (len(word)) > 0:\n",
    "            new_list.append(word)\n",
    "    return list(set(new_list))\n",
    "\n",
    "texts = [\n",
    "    \"./data/ref_texts/war_and_peace.ru.txt\",\n",
    "    \"./data/ref_texts/Булгаков. Мастер и Маргарита (1).txt\"\n",
    "    ]\n",
    "\n",
    "new_words = []\n",
    "for text_path in texts:\n",
    "    with open(text_path, \"rt\", encoding=\"utf-8\") as tfile:\n",
    "        text = tfile.read()\n",
    "        tmp_new_words = eject_words(text)\n",
    "        new_words += tmp_new_words\n",
    "        \n",
    "new_words = list(set(new_words))\n",
    "print(new_words[0:30])"
   ]
  },
  {
   "cell_type": "code",
   "execution_count": 26,
   "metadata": {},
   "outputs": [],
   "source": [
    "sorted_freq_lemmas += new_words"
   ]
  },
  {
   "cell_type": "code",
   "execution_count": 27,
   "metadata": {},
   "outputs": [],
   "source": [
    "lemmas_by_lenght = {i: [] for i in range(1, 25)}\n",
    "for lemma in sorted_freq_lemmas:\n",
    "    if \"-\" in lemma:\n",
    "        continue\n",
    "    lemmas_by_lenght[len(lemma)].append(lemma)\n",
    "    \n",
    "for key in lemmas_by_lenght.keys():\n",
    "    lemmas_by_lenght[key].reverse()\n",
    "    \n",
    "#print(lemmas_by_lenght)"
   ]
  },
  {
   "cell_type": "code",
   "execution_count": 28,
   "metadata": {},
   "outputs": [],
   "source": [
    "import typing as tp\n",
    "from typing_extensions import TypedDict\n",
    "from pydantic import Field\n",
    "import string\n",
    "from collections import deque\n",
    "\n",
    "\n",
    "class AnswerStatus(TypedDict):\n",
    "    answer_text: str = Field('', description=\"Hypothesis true answer text. Will be filled while count of letters not be over key lenght\")\n",
    "    words_count: int = Field(0, description=\"Words count\")\n",
    "    answer_letters_count: int = Field(0, description=\"Count of letters in answer text\")\n",
    "    \n",
    "\n",
    "class PossibleAnswer(TypedDict):\n",
    "    original_text: str = Field('', description=\"Founded text\")\n",
    "    shifts: tp.List[int] = Field([], description=\"Shifts generated by key\")\n",
    "    \n",
    "\n",
    "class RussianLanguageHelper():\n",
    "    rus_letters_count = 33\n",
    "    rus_alphabet = alphabet\n",
    "    rus_letters_map = {ch: i for i, ch in enumerate(alphabet)} # i + 1 because 'А' in key makes one shift left, not zero \n",
    "    \n",
    "    @staticmethod\n",
    "    def rus_ord(letter: str) -> int:\n",
    "        return RussianLanguageHelper.rus_letters_map[letter]\n",
    "    \n",
    "    @staticmethod\n",
    "    def rus_chr(letter_id : int) -> str:\n",
    "        return RussianLanguageHelper.rus_alphabet[letter_id]\n",
    "    \n",
    "    @staticmethod\n",
    "    def convert_e_diaeresis_to_e(word: str) -> str:\n",
    "        return word.replace('Ё', 'Е')\n",
    "    \n",
    "def generate_answer(ciphertext: str, shifts: tp.List[int]) -> str:\n",
    "    answer = ''\n",
    "    \n",
    "    current_pos = 0\n",
    "    for ch in ciphertext:\n",
    "        if ch in RussianLanguageHelper.rus_alphabet:\n",
    "            orig_ord = (RussianLanguageHelper.rus_ord(ch) - shifts[current_pos % len(shifts)]) % RussianLanguageHelper.rus_letters_count\n",
    "            orig_letter = RussianLanguageHelper.rus_chr(orig_ord)\n",
    "            answer += orig_letter\n",
    "            current_pos += 1\n",
    "        else:\n",
    "            answer += ch\n",
    "    \n",
    "    return answer\n",
    "\n",
    "\n",
    "def is_text_valid(pos_text:str, words_probs:tp.Dict, max_words_to_check:int, eps:float=0.) -> bool:\n",
    "    words = [word.strip(string.punctuation) for word in pos_text.split()]\n",
    "    \n",
    "    error_words_cnt, total_words = 0, 0\n",
    "    for i, word in enumerate(words):\n",
    "        if i > max_words_to_check:\n",
    "            break\n",
    "        \n",
    "        total_words += 1\n",
    "        prep_word = RussianLanguageHelper.convert_e_diaeresis_to_e(word)\n",
    "        if prep_word not in words_probs[len(prep_word)]:\n",
    "            error_words_cnt += 1\n",
    "            if eps == 0:\n",
    "                return False, 0\n",
    "            \n",
    "    if error_words_cnt / total_words > eps:\n",
    "        return False, error_words_cnt / total_words\n",
    "    else:\n",
    "        return True, error_words_cnt / total_words\n",
    "\n",
    "def find_text_by_words(ciphertext: str, key_len: int, words_probs: tp.Dict, max_words_to_check:int) -> str:\n",
    "    answers_stack = deque()\n",
    "    possible_founded_answers = deque()\n",
    "    \n",
    "    optimal_shift = []\n",
    "    min_eps = 1.\n",
    "    \n",
    "    # prepare words lenght\n",
    "    words = [word.strip(string.punctuation) for word in ciphertext.split()]\n",
    "    \n",
    "    # concatenated words of ciphertext for shifts counting\n",
    "    concat_ciphertext = remain_symbs(ciphertext)[0:key_len]\n",
    "    if len(concat_ciphertext) < key_len:\n",
    "        return\n",
    "    concat_ciphertext = concat_ciphertext[:key_len]\n",
    "    \n",
    "    # prepare statuses based on first word in cipher text\n",
    "    for word in words_probs[len(words[0])]:\n",
    "        answer_status = AnswerStatus()\n",
    "        \n",
    "        answer_status['answer_text'] = word\n",
    "        answer_status['words_count'] = 1\n",
    "        answer_status['answer_letters_count'] = len(word)\n",
    "        \n",
    "        answers_stack.append(answer_status)\n",
    "       \n",
    "    # make recursive search \n",
    "    while len(answers_stack) > 0:\n",
    "        old_status = answers_stack.pop()\n",
    "        \n",
    "        # If we dont have yet info about \n",
    "        if old_status['answer_letters_count'] < key_len:\n",
    "            for word in words_probs[len(words[old_status['words_count']])]:\n",
    "                new_status = AnswerStatus()\n",
    "        \n",
    "                new_status['answer_text'] = old_status['answer_text'] + word\n",
    "                new_status['words_count'] = old_status['words_count'] + 1\n",
    "                new_status['answer_letters_count'] = old_status['answer_letters_count'] + len(word)\n",
    "        \n",
    "                answers_stack.append(new_status)\n",
    "        else:\n",
    "            # count possible shifts for phrase\n",
    "            possible_true_text = old_status['answer_text']\n",
    "            shifts = []\n",
    "            for i, ch in enumerate(concat_ciphertext):\n",
    "                ch_ord = RussianLanguageHelper.rus_ord(ch)\n",
    "                orig_ord = RussianLanguageHelper.rus_ord(possible_true_text[i])\n",
    "                shifts.append((ch_ord - orig_ord) % 33)\n",
    "                \n",
    "            # generate for them possible answer\n",
    "            pos_answer = generate_answer(ciphertext, shifts)\n",
    "            \n",
    "            # check answer for valid\n",
    "            is_valid, error_rate = is_text_valid(pos_answer, words_probs, max_words_to_check, eps=0.05)\n",
    "            if min_eps > error_rate:\n",
    "                optimal_shift = shifts\n",
    "                min_eps = error_rate\n",
    "                print(f\"---NEW MIN EPS: {min_eps}. POS ANSWER IS: {pos_answer[0:100]}\")\n",
    "            \n",
    "            if is_valid:\n",
    "                print(f\"POSSIBLE ANSWER: {pos_answer[0:100]}\")\n",
    "            \n",
    "                new_pos_answer = PossibleAnswer()\n",
    "                new_pos_answer['original_text'] = pos_answer\n",
    "                new_pos_answer['shifts'] = shifts                \n",
    "                possible_founded_answers.append(new_pos_answer)\n",
    "            #else:\n",
    "                #print(f\"FAILED: {pos_answer[0:100]}\")\n",
    "    \n",
    "    print(f\"Optimal eps: {optimal_shift}, shift: {min_eps}\")\n",
    "    return possible_founded_answers"
   ]
  },
  {
   "cell_type": "code",
   "execution_count": 29,
   "metadata": {},
   "outputs": [
    {
     "name": "stdout",
     "output_type": "stream",
     "text": [
      "---NEW MIN EPS: 0.7096774193548387. POS ANSWER IS: В БЫТЬ В ГОВОРИТЬ, ЧТУ ЮЗДНОЛЫОКМЬИД ДВЯПЮАЙ РШАТЭЛЦАГЮ Й ЮЮЪУВЛБ, О ТТСЦРАНЭ, СФДЦНАД-БП ТГО И ИЩБУ\n"
     ]
    },
    {
     "ename": "KeyboardInterrupt",
     "evalue": "",
     "output_type": "error",
     "traceback": [
      "\u001b[1;31m---------------------------------------------------------------------------\u001b[0m",
      "\u001b[1;31mKeyboardInterrupt\u001b[0m                         Traceback (most recent call last)",
      "Cell \u001b[1;32mIn[29], line 1\u001b[0m\n\u001b[1;32m----> 1\u001b[0m answers \u001b[38;5;241m=\u001b[39m \u001b[43mfind_text_by_words\u001b[49m\u001b[43m(\u001b[49m\u001b[43mdata\u001b[49m\u001b[43m,\u001b[49m\u001b[43m \u001b[49m\u001b[38;5;241;43m16\u001b[39;49m\u001b[43m,\u001b[49m\u001b[43m \u001b[49m\u001b[43mlemmas_by_lenght\u001b[49m\u001b[43m,\u001b[49m\u001b[43m \u001b[49m\u001b[43mmax_words_to_check\u001b[49m\u001b[38;5;241;43m=\u001b[39;49m\u001b[38;5;241;43m30\u001b[39;49m\u001b[43m)\u001b[49m\n",
      "Cell \u001b[1;32mIn[28], line 122\u001b[0m, in \u001b[0;36mfind_text_by_words\u001b[1;34m(ciphertext, key_len, words_probs, max_words_to_check)\u001b[0m\n\u001b[0;32m    119\u001b[0m     shifts\u001b[38;5;241m.\u001b[39mappend((ch_ord \u001b[38;5;241m-\u001b[39m orig_ord) \u001b[38;5;241m%\u001b[39m \u001b[38;5;241m33\u001b[39m)\n\u001b[0;32m    121\u001b[0m \u001b[38;5;66;03m# generate for them possible answer\u001b[39;00m\n\u001b[1;32m--> 122\u001b[0m pos_answer \u001b[38;5;241m=\u001b[39m \u001b[43mgenerate_answer\u001b[49m\u001b[43m(\u001b[49m\u001b[43mciphertext\u001b[49m\u001b[43m,\u001b[49m\u001b[43m \u001b[49m\u001b[43mshifts\u001b[49m\u001b[43m)\u001b[49m\n\u001b[0;32m    124\u001b[0m \u001b[38;5;66;03m# check answer for valid\u001b[39;00m\n\u001b[0;32m    125\u001b[0m is_valid, error_rate \u001b[38;5;241m=\u001b[39m is_text_valid(pos_answer, words_probs, max_words_to_check, eps\u001b[38;5;241m=\u001b[39m\u001b[38;5;241m0.05\u001b[39m)\n",
      "Cell \u001b[1;32mIn[28], line 43\u001b[0m, in \u001b[0;36mgenerate_answer\u001b[1;34m(ciphertext, shifts)\u001b[0m\n\u001b[0;32m     41\u001b[0m \u001b[38;5;28;01mif\u001b[39;00m ch \u001b[38;5;129;01min\u001b[39;00m RussianLanguageHelper\u001b[38;5;241m.\u001b[39mrus_alphabet:\n\u001b[0;32m     42\u001b[0m     orig_ord \u001b[38;5;241m=\u001b[39m (RussianLanguageHelper\u001b[38;5;241m.\u001b[39mrus_ord(ch) \u001b[38;5;241m-\u001b[39m shifts[current_pos \u001b[38;5;241m%\u001b[39m \u001b[38;5;28mlen\u001b[39m(shifts)]) \u001b[38;5;241m%\u001b[39m RussianLanguageHelper\u001b[38;5;241m.\u001b[39mrus_letters_count\n\u001b[1;32m---> 43\u001b[0m     orig_letter \u001b[38;5;241m=\u001b[39m \u001b[43mRussianLanguageHelper\u001b[49m\u001b[38;5;241;43m.\u001b[39;49m\u001b[43mrus_chr\u001b[49m\u001b[43m(\u001b[49m\u001b[43morig_ord\u001b[49m\u001b[43m)\u001b[49m\n\u001b[0;32m     44\u001b[0m     answer \u001b[38;5;241m+\u001b[39m\u001b[38;5;241m=\u001b[39m orig_letter\n\u001b[0;32m     45\u001b[0m     current_pos \u001b[38;5;241m+\u001b[39m\u001b[38;5;241m=\u001b[39m \u001b[38;5;241m1\u001b[39m\n",
      "Cell \u001b[1;32mIn[28], line 28\u001b[0m, in \u001b[0;36mRussianLanguageHelper.rus_chr\u001b[1;34m(letter_id)\u001b[0m\n\u001b[0;32m     24\u001b[0m \u001b[38;5;129m@staticmethod\u001b[39m\n\u001b[0;32m     25\u001b[0m \u001b[38;5;28;01mdef\u001b[39;00m \u001b[38;5;21mrus_ord\u001b[39m(letter: \u001b[38;5;28mstr\u001b[39m) \u001b[38;5;241m-\u001b[39m\u001b[38;5;241m>\u001b[39m \u001b[38;5;28mint\u001b[39m:\n\u001b[0;32m     26\u001b[0m     \u001b[38;5;28;01mreturn\u001b[39;00m RussianLanguageHelper\u001b[38;5;241m.\u001b[39mrus_letters_map[letter]\n\u001b[1;32m---> 28\u001b[0m \u001b[38;5;129m@staticmethod\u001b[39m\n\u001b[0;32m     29\u001b[0m \u001b[38;5;28;01mdef\u001b[39;00m \u001b[38;5;21mrus_chr\u001b[39m(letter_id : \u001b[38;5;28mint\u001b[39m) \u001b[38;5;241m-\u001b[39m\u001b[38;5;241m>\u001b[39m \u001b[38;5;28mstr\u001b[39m:\n\u001b[0;32m     30\u001b[0m     \u001b[38;5;28;01mreturn\u001b[39;00m RussianLanguageHelper\u001b[38;5;241m.\u001b[39mrus_alphabet[letter_id]\n\u001b[0;32m     32\u001b[0m \u001b[38;5;129m@staticmethod\u001b[39m\n\u001b[0;32m     33\u001b[0m \u001b[38;5;28;01mdef\u001b[39;00m \u001b[38;5;21mconvert_e_diaeresis_to_e\u001b[39m(word: \u001b[38;5;28mstr\u001b[39m) \u001b[38;5;241m-\u001b[39m\u001b[38;5;241m>\u001b[39m \u001b[38;5;28mstr\u001b[39m:\n",
      "\u001b[1;31mKeyboardInterrupt\u001b[0m: "
     ]
    }
   ],
   "source": [
    "answers = find_text_by_words(data, 16, lemmas_by_lenght, max_words_to_check=30)"
   ]
  },
  {
   "cell_type": "markdown",
   "metadata": {},
   "source": [
    "Способ перебора текста длился достаточно долго. Возможно проблема в том, что нет нужных слов. Возможно в том, что нужны слова с буквой Ё. Ниже представлен второй способ - перебор сдвигов на каждую позицию по частотам."
   ]
  },
  {
   "cell_type": "code",
   "execution_count": 30,
   "metadata": {},
   "outputs": [],
   "source": [
    "class FreqAnswerStatus(TypedDict):\n",
    "    current_shifts: tp.List[int] = Field(default=[], description=\"Possible shifts\")\n",
    "    key_rot1: str = Field(default='', description=\"Key created by shifts (if A makes one shift)\")\n",
    "    key_rot0: str = Field(default='', description=\"Key created by shifts (if A makes zero shift)\")\n",
    "\n",
    "def count_freqs(ciphertext: str, key_len: int):\n",
    "    freqs_per_step_dicts = []\n",
    "    \n",
    "    text = remain_symbs(ciphertext)\n",
    "    \n",
    "    # create dicts\n",
    "    print(RussianLanguageHelper.rus_alphabet)\n",
    "    for _ in range(key_len):\n",
    "        new_dict = {ch: 0 for ch in RussianLanguageHelper.rus_alphabet}\n",
    "        freqs_per_step_dicts.append(new_dict)\n",
    "    \n",
    "    # count freqs\n",
    "    for i, ch in enumerate(text):\n",
    "        freqs_per_step_dicts[i % key_len][ch] += 1\n",
    "        \n",
    "    # sort in increase freqs\n",
    "    freqs_per_step = []\n",
    "    for i in range(key_len):\n",
    "        freqs_per_step.append({k: v for k, v in sorted(freqs_per_step_dicts[i].items(), key=lambda item: item[1])}.keys())\n",
    "    \n",
    "    return freqs_per_step\n",
    "\n",
    "def find_text_by_frequencies(ciphertext: int, key_len: int, words_probs: tp.Dict, max_words_to_check:int) -> str:\n",
    "    answers_stack = deque()                 # stack for searcing results\n",
    "    possible_founded_answers = deque()      # stack for possible answers\n",
    "    \n",
    "    # vars about possible shifts\n",
    "    optimal_shift = []\n",
    "    min_eps = 1.\n",
    "    \n",
    "    # frequencies of letters\n",
    "    freqs_per_key_pos = count_freqs(ciphertext, key_len)\n",
    "    \n",
    "    # prepare statuses based on first word in cipher text\n",
    "    for freq in freqs_per_key_pos[0]:\n",
    "        answer_status = FreqAnswerStatus()\n",
    "        \n",
    "        true_max_freq_ord = RussianLanguageHelper.rus_ord('О')\n",
    "        pos_max_freq_ord = RussianLanguageHelper.rus_ord(freq)\n",
    "        shift = (pos_max_freq_ord - true_max_freq_ord) % RussianLanguageHelper.rus_letters_count\n",
    "        \n",
    "        answer_status['current_shifts'] = [shift]\n",
    "        answer_status['key_rot1'] = RussianLanguageHelper.rus_chr((shift - 1) % RussianLanguageHelper.rus_letters_count)\n",
    "        answer_status['key_rot0'] = RussianLanguageHelper.rus_chr(shift)\n",
    "        \n",
    "        answers_stack.append(answer_status)\n",
    "       \n",
    "    # make recursive search \n",
    "    while len(answers_stack) > 0:\n",
    "        old_status = answers_stack.pop()\n",
    "        \n",
    "        # If we dont have yet info about \n",
    "        if len(old_status['current_shifts']) < key_len:\n",
    "            for freq in freqs_per_key_pos[len(old_status['current_shifts'])]:\n",
    "                answer_status = FreqAnswerStatus()\n",
    "        \n",
    "                true_max_freq_ord = RussianLanguageHelper.rus_ord('О')\n",
    "                pos_max_freq_ord = RussianLanguageHelper.rus_ord(freq)\n",
    "                shift = (pos_max_freq_ord - true_max_freq_ord) % RussianLanguageHelper.rus_letters_count\n",
    "        \n",
    "                answer_status['current_shifts'] = old_status['current_shifts'] + [shift]\n",
    "                answer_status['key_rot1'] = old_status['key_rot1'] + RussianLanguageHelper.rus_chr((shift - 1) % RussianLanguageHelper.rus_letters_count)\n",
    "                answer_status['key_rot0'] = old_status['key_rot0'] + RussianLanguageHelper.rus_chr(shift)\n",
    "        \n",
    "                answers_stack.append(answer_status)\n",
    "        else:\n",
    "            # generate for them possible answer\n",
    "            pos_answer = generate_answer(ciphertext, old_status['current_shifts'])\n",
    "            \n",
    "            # check answer for valid\n",
    "            is_valid, error_rate = is_text_valid(pos_answer, words_probs, max_words_to_check, eps=0.05)\n",
    "            if min_eps > error_rate:\n",
    "                optimal_shift = old_status['current_shifts']\n",
    "                min_eps = error_rate\n",
    "                print(f\"---NEW MIN EPS: {min_eps}. POS ANSWER IS: {pos_answer[0:2000]}. POS KEY0: {old_status['key_rot0']}, POS KEY1: {old_status['key_rot1']}.---\")\n",
    "            \n",
    "            if is_valid:\n",
    "                new_pos_answer = PossibleAnswer()\n",
    "                new_pos_answer['original_text'] = pos_answer\n",
    "                new_pos_answer['shifts'] = old_status['current_shifts']                \n",
    "                possible_founded_answers.append(new_pos_answer)\n",
    "    \n",
    "    print(f\"Optimal eps: {optimal_shift}, shift: {min_eps}\")\n",
    "    return possible_founded_answers"
   ]
  },
  {
   "cell_type": "code",
   "execution_count": 31,
   "metadata": {},
   "outputs": [
    {
     "name": "stdout",
     "output_type": "stream",
     "text": [
      "['А', 'Б', 'В', 'Г', 'Д', 'Е', 'Ё', 'Ж', 'З', 'И', 'Й', 'К', 'Л', 'М', 'Н', 'О', 'П', 'Р', 'С', 'Т', 'У', 'Ф', 'Х', 'Ц', 'Ч', 'Ш', 'Щ', 'Ъ', 'Ы', 'Ь', 'Э', 'Ю', 'Я']\n",
      "---NEW MIN EPS: 0.1935483870967742. POS ANSWER IS: У СЕБЯ В КАБИНЕТЕ, ВСЕ ОСТРОУМНЕЙШИМ ОБРАЗОМ РАССЧИТАЛИ И ПОДВЕЛИ, А СМОТРИШЬ, ГЕНЕРАЛ-ТО МАК И СДАЕТСЯ СО ВСЕЙ СВОЕЙ АРМИЕЙ, ХЕ-ХЕ-ХЕ! ВИЖУ, ВИЖУ, БАТЮШКА РОДИОН РОМАНОВИЧ, СМЕЕТЕСЬ ВЫ НАДО МНОЮ, ЧТО Я, ТАКОЙ СТАТСКИЙ ЧЕЛОВЕК, ВСЕ ИЗ ВОЕННОЙ ИСТОРИИ ПРИМЕРЧИКИ ПОДБИРАЮ. ДА ЧТО ДЕЛАТЬ, СЛАБОСТЬ, ЛЮБЛЮ ВОЕННОЕ ДЕЛО, И УЖ ТАК ЛЮБЛЮ Я ЧИТАТЬ ВСЕ ЭТИ ВОЕННЫЕ РЕЛЯЦИИ… РЕШИТЕЛЬНО Я МОЕЙ КАРЬЕРОЙ МАНКИРОВАЛ. МНЕ БЫ В ВОЕННОЙ СЛУЖИТЬ-С, ПРАВО-С. НАПОЛЕОНОМ-ТО, МОЖЕТ БЫТЬ, И НЕ СДЕЛАЛСЯ БЫ, НУ А МАЙОРОМ БЫ БЫЛ-С, ХЕ-ХЕ-ХЕ! НУ-С, ТАК Я ВАМ ТЕПЕРЬ, РОДИМЫЙ МОЙ, ВСЮ ПОДРОБНУЮ ПРАВДУ СКАЖУ НАСЧЕТ ТОГО ТО ЕСТЬ ЧАСТНОГО СЛУЧАЯ-ТО: ДЕЙСТВИТЕЛЬНОСТЬ И НАТУРА, СУДАРЬ ВЫ МОЙ, ЕСТЬ ВАЖНАЯ ВЕЩЬ И УХ КАК ИНОГДА САМЫЙ ПРОЗОРЛИВЕЙШИЙ РАСЧЕТ ПОДСЕКАЮТ! ЭЙ, ПОСЛУШАЙТЕ СТАРИКА, СЕРЬЕЗНО ГОВОРЮ, РОДИОН РОМАНОВИЧ (ГОВОРЯ ЭТО, ЕДВА ЛИ ТРИДЦАТИПЯТИЛЕТНИЙ ПОРФИРИЙ ПЕТРОВИЧ ДЕЙСТВИТЕЛЬНО КАК БУДТО ВДРУГ ВЕСЬ СОСТАРИЛСЯ; ДАЖЕ ГОЛОС ЕГО ИЗМЕНИЛСЯ, И КАК-ТО ВЕСЬ ОН СКРЮЧИЛСЯ), – К ТОМУ ЖЕ Я ЧЕЛОВЕК ОТКРОВЕННЫЙ-С… ОТКРОВЕННЫЙ Я ЧЕЛОВЕК ИЛИ НЕТ? КАК ПО-ВАШЕМУ? УЖ КАЖЕТСЯ, ЧТО ВПОЛНЕ: ЭТАКИЕ-ТО ВЕЩИ ВАМ ЗАДАРОМ СООБЩАЮ, ДА ЕЩЕ НАГРАЖДЕНИЯ ЗА ЭТО НЕ ТРЕБУЮ, ХЕ-ХЕ! НУ, ТАК ВОТ-С, ПРОДОЛЖАЮ-С: ОСТРОУМИЕ, ПО-МОЕМУ, ВЕЛИКОЛЕПНАЯ ВЕЩЬ-С; ЭТО, ТАК СКАЗАТЬ, КРАСА ПРИРОДЫ И УТЕШЕНИЕ ЖИЗНИ, И УЖ КАКИЕ, КАЖЕТСЯ, ФОКУСЫ МОЖЕТ ОНО ЗАДАВАТЬ, ТАК ЧТО ГДЕ УЖ, КАЖЕТСЯ, ИНОЙ РАЗ УГАДАТЬ КАКОМУ-НИБУДЬ БЕДНЕНЬКОМУ СЛЕДОВАТЕЛЮ, КОТОРЫЙ ПРИТОМ И САМ СВОЕЙ ФАНТАЗИЕЙ УВЛЕЧЕН, КАК И ВСЕГДА БЫВАЕТ, ПОТОМУ ТОЖЕ ВЕДЬ ЧЕЛОВЕК-C! ДА НАТУРА-ТО БЕДНЕНЬКОГО СЛЕДОВАТЕЛЯ ВЫРУЧАЕТ-С, ВОТ БЕДА! А ОБ ЭТОМ И НЕ ПОДУМАЕТ УВЛЕКАЮЩАЯСЯ ОСТРОУМИЕМ МОЛОДЕЖЬ, «ШАГАЮЩАЯ ЧЕРЕЗ ВСЕ ПРЕПЯТСТВИЯ» (КАК ВЫ ОСТРОУМНЕЙШИМ И ХИТРЕЙШИМ ОБРАЗОМ ИЗВОЛИЛИ ВЫРАЗИТЬСЯ). ОН-ТО, ПОЛОЖИМ, И СОЛЖЕТ, ТО ЕСТЬ ЧЕЛОВЕК-ТО-С, ЧАСТНЫЙ-ТО СЛУЧАЙ-С… INCOGNITO-ТО-С, И СОЛЖЕТ ОТЛИЧНО, НАИХИТРЕЙШИМ МАНЕРОМ; ТУТ БЫ, КАЖЕТСЯ, И ТРИУМФ, И НАСЛАЖДАЙСЯ ПЛОДАМИ СВОЕГО ОСТРОУМИЯ, А ОН ХЛОП! ДА В САМОМ-ТО ИНТЕРЕСНОМ, В САМОМ СКАНДАЛЕЗНЕЙШЕМ МЕСТЕ И УПАДЕТ В ОБМОРОК. ОНО, ПОЛОЖИМ, БОЛЕЗН. POS KEY0: ПУЛСЬУЬКВБОЛПНБУ, POS KEY1: ОТКРЫТЫЙБАНКОМАТ.---\n"
     ]
    },
    {
     "ename": "KeyboardInterrupt",
     "evalue": "",
     "output_type": "error",
     "traceback": [
      "\u001b[1;31m---------------------------------------------------------------------------\u001b[0m",
      "\u001b[1;31mKeyboardInterrupt\u001b[0m                         Traceback (most recent call last)",
      "Cell \u001b[1;32mIn[31], line 1\u001b[0m\n\u001b[1;32m----> 1\u001b[0m answers \u001b[38;5;241m=\u001b[39m \u001b[43mfind_text_by_frequencies\u001b[49m\u001b[43m(\u001b[49m\u001b[43mdata\u001b[49m\u001b[43m,\u001b[49m\u001b[43m \u001b[49m\u001b[38;5;241;43m16\u001b[39;49m\u001b[43m,\u001b[49m\u001b[43m \u001b[49m\u001b[43mlemmas_by_lenght\u001b[49m\u001b[43m,\u001b[49m\u001b[43m \u001b[49m\u001b[43mmax_words_to_check\u001b[49m\u001b[38;5;241;43m=\u001b[39;49m\u001b[38;5;241;43m30\u001b[39;49m\u001b[43m)\u001b[49m\n",
      "Cell \u001b[1;32mIn[30], line 76\u001b[0m, in \u001b[0;36mfind_text_by_frequencies\u001b[1;34m(ciphertext, key_len, words_probs, max_words_to_check)\u001b[0m\n\u001b[0;32m     73\u001b[0m pos_answer \u001b[38;5;241m=\u001b[39m generate_answer(ciphertext, old_status[\u001b[38;5;124m'\u001b[39m\u001b[38;5;124mcurrent_shifts\u001b[39m\u001b[38;5;124m'\u001b[39m])\n\u001b[0;32m     75\u001b[0m \u001b[38;5;66;03m# check answer for valid\u001b[39;00m\n\u001b[1;32m---> 76\u001b[0m is_valid, error_rate \u001b[38;5;241m=\u001b[39m \u001b[43mis_text_valid\u001b[49m\u001b[43m(\u001b[49m\u001b[43mpos_answer\u001b[49m\u001b[43m,\u001b[49m\u001b[43m \u001b[49m\u001b[43mwords_probs\u001b[49m\u001b[43m,\u001b[49m\u001b[43m \u001b[49m\u001b[43mmax_words_to_check\u001b[49m\u001b[43m,\u001b[49m\u001b[43m \u001b[49m\u001b[43meps\u001b[49m\u001b[38;5;241;43m=\u001b[39;49m\u001b[38;5;241;43m0.05\u001b[39;49m\u001b[43m)\u001b[49m\n\u001b[0;32m     77\u001b[0m \u001b[38;5;28;01mif\u001b[39;00m min_eps \u001b[38;5;241m>\u001b[39m error_rate:\n\u001b[0;32m     78\u001b[0m     optimal_shift \u001b[38;5;241m=\u001b[39m old_status[\u001b[38;5;124m'\u001b[39m\u001b[38;5;124mcurrent_shifts\u001b[39m\u001b[38;5;124m'\u001b[39m]\n",
      "Cell \u001b[1;32mIn[28], line 53\u001b[0m, in \u001b[0;36mis_text_valid\u001b[1;34m(pos_text, words_probs, max_words_to_check, eps)\u001b[0m\n\u001b[0;32m     52\u001b[0m \u001b[38;5;28;01mdef\u001b[39;00m \u001b[38;5;21mis_text_valid\u001b[39m(pos_text:\u001b[38;5;28mstr\u001b[39m, words_probs:tp\u001b[38;5;241m.\u001b[39mDict, max_words_to_check:\u001b[38;5;28mint\u001b[39m, eps:\u001b[38;5;28mfloat\u001b[39m\u001b[38;5;241m=\u001b[39m\u001b[38;5;241m0.\u001b[39m) \u001b[38;5;241m-\u001b[39m\u001b[38;5;241m>\u001b[39m \u001b[38;5;28mbool\u001b[39m:\n\u001b[1;32m---> 53\u001b[0m     words \u001b[38;5;241m=\u001b[39m [\u001b[43mword\u001b[49m\u001b[38;5;241;43m.\u001b[39;49m\u001b[43mstrip\u001b[49m\u001b[43m(\u001b[49m\u001b[43mstring\u001b[49m\u001b[38;5;241;43m.\u001b[39;49m\u001b[43mpunctuation\u001b[49m\u001b[43m)\u001b[49m \u001b[38;5;28;01mfor\u001b[39;00m word \u001b[38;5;129;01min\u001b[39;00m pos_text\u001b[38;5;241m.\u001b[39msplit()]\n\u001b[0;32m     55\u001b[0m     error_words_cnt, total_words \u001b[38;5;241m=\u001b[39m \u001b[38;5;241m0\u001b[39m, \u001b[38;5;241m0\u001b[39m\n\u001b[0;32m     56\u001b[0m     \u001b[38;5;28;01mfor\u001b[39;00m i, word \u001b[38;5;129;01min\u001b[39;00m \u001b[38;5;28menumerate\u001b[39m(words):\n",
      "\u001b[1;31mKeyboardInterrupt\u001b[0m: "
     ]
    }
   ],
   "source": [
    "answers = find_text_by_frequencies(data, 16, lemmas_by_lenght, max_words_to_check=30)"
   ]
  },
  {
   "cell_type": "markdown",
   "metadata": {},
   "source": [
    "Достатчно быстро определился вторым способом ключ: ОТКРЫТЫЙБАНКОМАТ\n",
    "\n",
    "Исходный текст: Ф. М. Достоевский. Преступление и наказание"
   ]
  },
  {
   "cell_type": "markdown",
   "metadata": {},
   "source": [
    "По гистограмме индекса схожести видно, что похожий индейс имеют все числа кратные 16 (а 80 - вообще самый большой). На этих числах алгоритм тоже будет работать, только сильно дольше. Как стоит полагать, при предположении о длине ключа в 32, ключ должен оказаться дважды повторенным кодом 'ОТКРЫТЫЙБАНКОМАТ'"
   ]
  },
  {
   "cell_type": "code",
   "execution_count": 16,
   "metadata": {},
   "outputs": [
    {
     "name": "stdout",
     "output_type": "stream",
     "text": [
      "['А', 'Б', 'В', 'Г', 'Д', 'Е', 'Ё', 'Ж', 'З', 'И', 'Й', 'К', 'Л', 'М', 'Н', 'О', 'П', 'Р', 'С', 'Т', 'У', 'Ф', 'Х', 'Ц', 'Ч', 'Ш', 'Щ', 'Ъ', 'Ы', 'Ь', 'Э', 'Ю', 'Я']\n",
      "---NEW MIN EPS: 0.6774193548387096. POS ANSWER IS: У СОБЯ В КАБТНЕЬЕ, ВСО ОСТРШУМНЕЙШИМ ОКРАСОМ РАССБИТЙЛИ И ЩОДВЕХИ, А СМОТРИШЁ, ГЕЧЕРАЛ-ТО ЦАК Т СДАОТСЯ СШ ВСЕЙ СВОЕЙ ЙРМТЕЙ, ХЕ-ХЕ-ЯЕ! ВТЖУ, ВТЖУ, БАЬЮШКА РОДИОЧ РОЦАНОВИЧ, ЫМЕОТЕСЁ ВЫ НАНО МНОЮ, ЧТО Я, ЬАКШЙ СТАТСФИЙ БЕЛОЛЕК, ВСО ИЗ ВОЕННОЙ ТСТШРИИ ПРИЦЕРБИКИ ЩОДБИЪАЮ. ДА ЧТО ДЕХАТЁ, СЛАБОСЬЬ, ЛЗБЛЮ ЛОЕННШЕ ДЕЛО, И УЖ ТЙК ЛЗБЛЮ Я ЧИЬАТЁ ВСЕ ЖТИ ВООННЫЕ РЕЛЯЦТИ… РОШИТЕЛЬЧО Я ЦОЕЙ ФАРЬЕЪОЙ МАНКИРОЛАЛ. ЦНЕ БЫ В ВШЕНЧОЙ СХУЖИТЁ-С, ПРАВО-С. НАЩОЛООНОМ-ТО, ЦОЖОТ БЫЬЬ, И НЕ ЫДЕЛАЛСЯ БЫ, ЧУ А ЦАЙОРОМ КЫ БЕЛ-С, ХО-ХЕ-ХЕ! ЧУ-С, ТАК Я ВАМ ЬЕПОРЬ, РОДИЦЫЙ ЦОЙ, ВЫЮ ПОДЪОБНУЮ ПРАВНУ СФАЖУ НАСБЕТ ЬОГО ЬО ЕСТЁ ЧАСТНОГО СХУЧЙЯ-ТО: ДЕЙЫТВТТЕЛЁНОСТЁ И НАТУРА, СУНАРЁ ВЫ МОЙ, ЕЫТЬ ЛАЖНЙЯ ВЕЩЁ И УХ КАК ИНОМДА ЫАМЫЙ ПРШЗОЪЛИВОЙШИЙ ЪАСЧЕТ ПОДСОКАЗТ! ЭЙ, ПОСХУШЙЙТЕ ЫТАРИФА, СЕРЬЕЗНО МОВШРЮ, РОДИШН РШМАНШВИЧ (ГШВОРЯ ЭТО, ЕДЛА ЛТ ТРИДЦАЬИПИТИЛОТНИЙ ЩОРФИРИЙ ПЕЬРОЛИЧ ДЕЙСЬВИЬЕЛЬЧО КАК КУДТО ВДРУГ ЛЕСЁ СОСТАРТЛСИ; ДАЖО ГОЛОЫ ЕГО ИЗМЕНИХСЯ, Т КАК-ТО ВОСЬ ШН СКЪЮЧИЛЫЯ), – К ТОМУ ЖЕ Я БЕЛШВЕК ОТКЪОВОННЫУ-С… ОТКЪОВЕННЫЙ Я ЧОЛОЛЕК ИЛИ НОТ? КЙК ПО-ЛАШЕМЭ? УЖ КАЖЕТСЯ, БТО ЛПОЛНЕ: ЭЬАКТЕ-ТО ЛЕЩИ ВЙМ ЗАДАРОМ СШОБГАЮ, ДА ЕЩО НАМРАЖНЕНИЯ СА ЭТО НЕ ТРЕКУЮ, ЯЕ-ХЕ! НУ, ТЙК ВШТ-С, ПЪОДОЛРАЮ-С: ОСТРОУЦИЕ, ЩО-МОЕМУ, ЛЕЛТКОЛОПНАЯ ЛЕЩЬ-С; ЭТО, ТАФ СКЙЗАТЬ, КРЙСА ЩРИРШДЫ И УЬЕШЕНИЕ ЖИЗЧИ, И ЭЖ КАКИЕ, ФАЖОТСЯ, ЮОКУСЕ МОЖЕТ ОНО ЗЙДАЛАТЬ, ТАК БТО МДЕ УР, КАЖЕЬСЯ, ИНОЙ РАЗ ЭГАНАТЬ КАКШМУ-ЧИБУНЬ БЕДЧЕНЬКОМУ СЛОДОЛАТЕЛЮ, КШТОЪЫЙ ПЪИТОМ Т САМ СВОЕЙ ФЙНТЙЗИЕЙ УВХЕЧОН, КАФ И ВСЕМДА БЫВАЕТ, ПШТОЦУ ТОЖЕ ВОДЬ БЕЛОЛЕК-C! ДА ЧАТУРА-ТО БЕННЕЧЬКОГО СХЕДШВАТОЛЯ ВЫЪУЧАЕТ-С, ВОТ КЕДЙ! А ОБ ЭТОЦ И НО ПОДЭМАЕТ ЭВЛЕКАЮЩАЯЫЯ ОЫТРОУМИОМ МШЛОДОЖЬ, «ШАМАЮЩАЯ ЧЕРЕС ВСО ПРЕПЯТЫТВТЯ» (КАФ ВЫ ОСЬРОУМНЕЙШИЦ И ХТТРЕЙШИЦ ОБЪАЗОЦ ИЗВОХИЛИ ВЫРАЗИЬЬСИ). ОН-ТО, ПОХОЖТМ, И СШЛЖЕТ, ЬО ЕСТЬ ЧЕЛОЛЕК-ЬО-С, ЧАСТЧЫЙ-ЬО СЛЭЧАЙ-С… INCOGNITO-ЬО-С, И СОЛЖЕТ ШТЛТЧНО, НАИЯИТЪЕЙШТМ МАНОРОМ; ТУТ БЫ, КЙЖЕЬСЯ, И ТРИЭМФ, Т НАСХАЖДАУСЯ ПЛОДАМИ ЫВООГО ОСТРШУМТЯ, А ОЧ ХЛОП! НА В САМОМ-ТО ТНТОРЕСНОМ, Л САЦОМ СФАНДАХЕЗНЕЙШЕМ МОСТО И УПАДЕЬ В ОКМОРШК. ОНО, ЩОЛОЖИМ, БОЛОЗН. POS KEY0: ПУВСЬУЬКВЧОЛЁНБУЁУЛСЬЙЬКВБОЛПНБЙ, POS KEY1: ОТБРЫТЫЙБЦНКЕМАТЕТКРЫИЫЙБАНКОМАИ.---\n",
      "---NEW MIN EPS: 0.6451612903225806. POS ANSWER IS: У СОБЯ В КАБТНЕЬЕ, ВСО ОСТРШУМНЕЙШИМ ОБРАСОМ РАССБИТЙЛИ И ЩОДВЕХИ, А СМОТРИШЬ, ГЕЧЕРАЛ-ТО ЦАК Т СДАОТСЯ СШ ВСЕЙ СВОЕЙ АРМТЕЙ, ХЕ-ХЕ-ЯЕ! ВТЖУ, ВТЖУ, БАЬЮШКА РОДИОН РОЦАНОВИЧ, ЫМЕОТЕСЁ ВЫ НАНО МНОЮ, ЧТО Я, ТАКШЙ СТАТСФИЙ БЕЛОЛЕК, ВСО ИЗ ВОЕННОЙ ИСТШРИИ ПРИЦЕРБИКИ ЩОДБИЪАЮ. ДА ЧТО ДЕЛАТЁ, СЛАБОСЬЬ, ЛЗБЛЮ ЛОЕННШЕ ДЕЛО, И УЖ ТАК ЛЗБЛЮ Я ЧИЬАТЁ ВСЕ ЖТИ ВООННЫЕ РЕЛЯЦИИ… РОШИТЕЛЬЧО Я ЦОЕЙ ФАРЬЕЪОЙ МАНКИРОВАЛ. ЦНЕ БЫ В ВШЕНЧОЙ СХУЖИТЁ-С, ПРАВО-С. НАПОЛООНОМ-ТО, ЦОЖОТ БЫЬЬ, И НЕ ЫДЕЛАЛСЯ БЫ, НУ А ЦАЙОРОМ КЫ БЕЛ-С, ХО-ХЕ-ХЕ! ЧУ-С, ТАК Я ВАМ ТЕПОРЬ, РОДИЦЫЙ ЦОЙ, ВЫЮ ПОДЪОБНУЮ ПРАВДУ СФАЖУ НАСБЕТ ЬОГО ЬО ЕСТЁ ЧАСТНОГО СЛУЧЙЯ-ТО: ДЕЙЫТВТТЕЛЁНОСТЁ И НАТУРА, СУДАРЁ ВЫ МОЙ, ЕЫТЬ ЛАЖНЙЯ ВЕЩЁ И УХ КАК ИНОГДА ЫАМЫЙ ПРШЗОЪЛИВОЙШИЙ ЪАСЧЕТ ПОДСЕКАЗТ! ЭЙ, ПОСХУШЙЙТЕ ЫТАРИФА, СЕРЬЕЗНО ГОВШРЮ, РОДИШН РШМАНШВИЧ (ГШВОРЯ ЭТО, ЕДВА ЛТ ТРИДЦАЬИПИТИЛОТНИЙ ЩОРФИРИЙ ПЕТРОЛИЧ ДЕЙСЬВИЬЕЛЬЧО КАК КУДТО ВДРУГ ВЕСЁ СОСТАРТЛСИ; ДАЖО ГОЛОЫ ЕГО ИЗМЕНИЛСЯ, Т КАК-ТО ВОСЬ ШН СКЪЮЧИЛЫЯ), – К ТОМУ ЖЕ Я ЧЕЛШВЕК ОТКЪОВОННЫУ-С… ОТКЪОВЕННЫЙ Я ЧЕЛОЛЕК ИЛИ НОТ? КЙК ПО-ЛАШЕМЭ? УЖ КАЖЕТСЯ, ЧТО ЛПОЛНЕ: ЭЬАКТЕ-ТО ЛЕЩИ ВЙМ ЗАДАРОМ СООБГАЮ, ДА ЕЩО НАМРАЖНЕНИЯ СА ЭТО НЕ ТРЕБУЮ, ЯЕ-ХЕ! НУ, ТЙК ВШТ-С, ПЪОДОЛРАЮ-С: ОСТРОУМИЕ, ЩО-МОЕМУ, ЛЕЛТКОЛОПНАЯ ЛЕЩЬ-С; ЭТО, ТАК СКЙЗАТЬ, КРЙСА ЩРИРШДЫ И УЬЕШЕНИЕ ЖИЗНИ, И ЭЖ КАКИЕ, ФАЖОТСЯ, ЮОКУСЕ МОЖЕТ ОНО ЗАДАЛАТЬ, ТАК БТО МДЕ УР, КАЖЕЬСЯ, ИНОЙ РАЗ УГАНАТЬ КАКШМУ-ЧИБУНЬ БЕДЧЕНЬКОМУ СЛЕДОЛАТЕЛЮ, КШТОЪЫЙ ПЪИТОМ Т САМ СВОЕЙ ФАНТЙЗИЕЙ УВХЕЧОН, КАФ И ВСЕМДА БЫВАЕТ, ПОТОЦУ ТОЖЕ ВОДЬ БЕЛОЛЕК-C! ДА ЧАТУРА-ТО БЕДНЕЧЬКОГО СХЕДШВАТОЛЯ ВЫЪУЧАЕТ-С, ВОТ БЕДЙ! А ОБ ЭТОЦ И НО ПОДЭМАЕТ ЭВЛЕКАЮЩАЯСЯ ОЫТРОУМИОМ МШЛОДОЖЬ, «ШАМАЮЩАЯ ЧЕРЕЗ ВСО ПРЕПЯТЫТВТЯ» (КАФ ВЫ ОСЬРОУМНЕЙШИМ И ХТТРЕЙШИЦ ОБЪАЗОЦ ИЗВОХИЛИ ВЫРАЗИТЬСИ). ОН-ТО, ПОХОЖТМ, И СШЛЖЕТ, ЬО ЕСТЬ ЧЕЛОВЕК-ЬО-С, ЧАСТЧЫЙ-ЬО СЛЭЧАЙ-С… INCOGNITO-ЬО-С, И СОЛЖЕТ ОТЛТЧНО, НАИЯИТЪЕЙШТМ МАНОРОМ; ТУТ БЫ, КАЖЕЬСЯ, И ТРИЭМФ, Т НАСХАЖДАУСЯ ПЛОДАМИ СВООГО ОСТРШУМТЯ, А ОЧ ХЛОП! НА В САМОМ-ТО ИНТОРЕСНОМ, Л САЦОМ СФАНДАХЕЗНЕЙШЕМ МЕСТО И УПАДЕЬ В ОКМОРШК. ОНО, ЩОЛОЖИМ, БОЛЕЗН. POS KEY0: ПУВСЬУЬКВЧОЛЁНБУЁУЛСЬЙЬКВБОЛПНБУ, POS KEY1: ОТБРЫТЫЙБЦНКЕМАТЕТКРЫИЫЙБАНКОМАТ.---\n"
     ]
    },
    {
     "ename": "KeyboardInterrupt",
     "evalue": "",
     "output_type": "error",
     "traceback": [
      "\u001b[1;31m---------------------------------------------------------------------------\u001b[0m",
      "\u001b[1;31mKeyboardInterrupt\u001b[0m                         Traceback (most recent call last)",
      "Cell \u001b[1;32mIn[16], line 1\u001b[0m\n\u001b[1;32m----> 1\u001b[0m answers \u001b[38;5;241m=\u001b[39m \u001b[43mfind_text_by_frequencies\u001b[49m\u001b[43m(\u001b[49m\u001b[43mdata\u001b[49m\u001b[43m,\u001b[49m\u001b[43m \u001b[49m\u001b[38;5;241;43m32\u001b[39;49m\u001b[43m,\u001b[49m\u001b[43m \u001b[49m\u001b[43mlemmas_by_lenght\u001b[49m\u001b[43m,\u001b[49m\u001b[43m \u001b[49m\u001b[43mmax_words_to_check\u001b[49m\u001b[38;5;241;43m=\u001b[39;49m\u001b[38;5;241;43m30\u001b[39;49m\u001b[43m)\u001b[49m\n",
      "Cell \u001b[1;32mIn[14], line 73\u001b[0m, in \u001b[0;36mfind_text_by_frequencies\u001b[1;34m(ciphertext, key_len, words_probs, max_words_to_check)\u001b[0m\n\u001b[0;32m     70\u001b[0m         answers_stack\u001b[38;5;241m.\u001b[39mappend(answer_status)\n\u001b[0;32m     71\u001b[0m \u001b[38;5;28;01melse\u001b[39;00m:\n\u001b[0;32m     72\u001b[0m     \u001b[38;5;66;03m# generate for them possible answer\u001b[39;00m\n\u001b[1;32m---> 73\u001b[0m     pos_answer \u001b[38;5;241m=\u001b[39m \u001b[43mgenerate_answer\u001b[49m\u001b[43m(\u001b[49m\u001b[43mciphertext\u001b[49m\u001b[43m,\u001b[49m\u001b[43m \u001b[49m\u001b[43mold_status\u001b[49m\u001b[43m[\u001b[49m\u001b[38;5;124;43m'\u001b[39;49m\u001b[38;5;124;43mcurrent_shifts\u001b[39;49m\u001b[38;5;124;43m'\u001b[39;49m\u001b[43m]\u001b[49m\u001b[43m)\u001b[49m\n\u001b[0;32m     75\u001b[0m     \u001b[38;5;66;03m# check answer for valid\u001b[39;00m\n\u001b[0;32m     76\u001b[0m     is_valid, error_rate \u001b[38;5;241m=\u001b[39m is_text_valid(pos_answer, words_probs, max_words_to_check, eps\u001b[38;5;241m=\u001b[39m\u001b[38;5;241m0.05\u001b[39m)\n",
      "Cell \u001b[1;32mIn[12], line 43\u001b[0m, in \u001b[0;36mgenerate_answer\u001b[1;34m(ciphertext, shifts)\u001b[0m\n\u001b[0;32m     41\u001b[0m \u001b[38;5;28;01mif\u001b[39;00m ch \u001b[38;5;129;01min\u001b[39;00m RussianLanguageHelper\u001b[38;5;241m.\u001b[39mrus_alphabet:\n\u001b[0;32m     42\u001b[0m     orig_ord \u001b[38;5;241m=\u001b[39m (RussianLanguageHelper\u001b[38;5;241m.\u001b[39mrus_ord(ch) \u001b[38;5;241m-\u001b[39m shifts[current_pos \u001b[38;5;241m%\u001b[39m \u001b[38;5;28mlen\u001b[39m(shifts)]) \u001b[38;5;241m%\u001b[39m RussianLanguageHelper\u001b[38;5;241m.\u001b[39mrus_letters_count\n\u001b[1;32m---> 43\u001b[0m     orig_letter \u001b[38;5;241m=\u001b[39m \u001b[43mRussianLanguageHelper\u001b[49m\u001b[38;5;241;43m.\u001b[39;49m\u001b[43mrus_chr\u001b[49m\u001b[43m(\u001b[49m\u001b[43morig_ord\u001b[49m\u001b[43m)\u001b[49m\n\u001b[0;32m     44\u001b[0m     answer \u001b[38;5;241m+\u001b[39m\u001b[38;5;241m=\u001b[39m orig_letter\n\u001b[0;32m     45\u001b[0m     current_pos \u001b[38;5;241m+\u001b[39m\u001b[38;5;241m=\u001b[39m \u001b[38;5;241m1\u001b[39m\n",
      "Cell \u001b[1;32mIn[12], line 28\u001b[0m, in \u001b[0;36mRussianLanguageHelper.rus_chr\u001b[1;34m(letter_id)\u001b[0m\n\u001b[0;32m     24\u001b[0m \u001b[38;5;129m@staticmethod\u001b[39m\n\u001b[0;32m     25\u001b[0m \u001b[38;5;28;01mdef\u001b[39;00m \u001b[38;5;21mrus_ord\u001b[39m(letter: \u001b[38;5;28mstr\u001b[39m) \u001b[38;5;241m-\u001b[39m\u001b[38;5;241m>\u001b[39m \u001b[38;5;28mint\u001b[39m:\n\u001b[0;32m     26\u001b[0m     \u001b[38;5;28;01mreturn\u001b[39;00m RussianLanguageHelper\u001b[38;5;241m.\u001b[39mrus_letters_map[letter]\n\u001b[1;32m---> 28\u001b[0m \u001b[38;5;129m@staticmethod\u001b[39m\n\u001b[0;32m     29\u001b[0m \u001b[38;5;28;01mdef\u001b[39;00m \u001b[38;5;21mrus_chr\u001b[39m(letter_id : \u001b[38;5;28mint\u001b[39m) \u001b[38;5;241m-\u001b[39m\u001b[38;5;241m>\u001b[39m \u001b[38;5;28mstr\u001b[39m:\n\u001b[0;32m     30\u001b[0m     \u001b[38;5;28;01mreturn\u001b[39;00m RussianLanguageHelper\u001b[38;5;241m.\u001b[39mrus_alphabet[letter_id]\n\u001b[0;32m     32\u001b[0m \u001b[38;5;129m@staticmethod\u001b[39m\n\u001b[0;32m     33\u001b[0m \u001b[38;5;28;01mdef\u001b[39;00m \u001b[38;5;21mconvert_e_diaeresis_to_e\u001b[39m(word: \u001b[38;5;28mstr\u001b[39m) \u001b[38;5;241m-\u001b[39m\u001b[38;5;241m>\u001b[39m \u001b[38;5;28mstr\u001b[39m:\n",
      "\u001b[1;31mKeyboardInterrupt\u001b[0m: "
     ]
    }
   ],
   "source": [
    "answers = find_text_by_frequencies(data, 32, lemmas_by_lenght, max_words_to_check=30)"
   ]
  },
  {
   "cell_type": "markdown",
   "metadata": {},
   "source": [
    "## Выводы\n",
    "\n",
    "Два предложенных алгоритма (на основе перебора встречающихся слов и на основе сдвига максимальных распределений на позициях) хоть в теории и помогают найти алгоритм, полагаясь на вероятностную природу языка, однако все равно являются достаточно медленными: первый алгоритм вообще так то и не смог найти нужный ключ, поскольку пришлось бы перебирать слишком большое кол-во первых слов, покрывающие размер ключа (порядка 20 * 20 * 800 * 2600 * 10000, если верить собранному словарю), а это даже не гарантированно, что все нужные слова в данном словаре есть. Кроме того, эмпирически кажется, что преимущественное большинство слов, кроме разве что предлогов и ряда распространненых в бытовой жизни слов, не имеют каких либо частотных выбоин. Как показывает\n",
    "\n",
    "Второй алгоритм требует не меньшего перебора: 33^16, но и распределение гласных более неравномерное (гласная 'о' встречается сильно чаще остальных букв, а мы перебираем сдвиги полагая, что максимум распределения символов после сдвига соответствует букве 'о' до сдвига). В целом, такая стратегия дает почти готовый результа (как видно по предыдущей ячейке), однако чем больше длина ключа, тем дольше и перебор. Можно в целом модернизировать стратегию атаки, пытаясь после нахождения почти готового ключа заменять некоторые буквы слов, которые почти правильно написаны. "
   ]
  },
  {
   "cell_type": "markdown",
   "metadata": {},
   "source": []
  }
 ],
 "metadata": {
  "kernelspec": {
   "display_name": ".venv",
   "language": "python",
   "name": "python3"
  },
  "language_info": {
   "codemirror_mode": {
    "name": "ipython",
    "version": 3
   },
   "file_extension": ".py",
   "mimetype": "text/x-python",
   "name": "python",
   "nbconvert_exporter": "python",
   "pygments_lexer": "ipython3",
   "version": "3.12.7"
  }
 },
 "nbformat": 4,
 "nbformat_minor": 2
}
